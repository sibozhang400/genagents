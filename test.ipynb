{
 "cells": [
  {
   "cell_type": "code",
   "execution_count": 3,
   "metadata": {},
   "outputs": [],
   "source": [
    "from genagents.genagents import GenerativeAgent\n",
    "\n",
    "# Initialize a new agent\n",
    "agent = GenerativeAgent()\n",
    "\n",
    "# Update the agent's scratchpad with personal information\n",
    "agent.update_scratch({\n",
    "    \"first_name\": \"Sibo\",\n",
    "    \"last_name\": \"Zhang\",\n",
    "    \"age\": 34,\n",
    "    \"occupation\": \"PhD\",\n",
    "    \"interests\": [\"reading\", \"hiking\", \"coding\"]\n",
    "})"
   ]
  },
  {
   "cell_type": "code",
   "execution_count": 4,
   "metadata": {},
   "outputs": [
    {
     "name": "stdout",
     "output_type": "stream",
     "text": [
      "['Yes']\n"
     ]
    }
   ],
   "source": [
    "questions = {\n",
    "    \"Do you enjoy outdoor activities?\": [\"Yes\", \"No\", \"Sometimes\"]\n",
    "}\n",
    "\n",
    "response = agent.categorical_resp(questions)\n",
    "print(response[\"responses\"])"
   ]
  },
  {
   "cell_type": "code",
   "execution_count": 5,
   "metadata": {},
   "outputs": [
    {
     "name": "stdout",
     "output_type": "stream",
     "text": [
      "[8]\n"
     ]
    }
   ],
   "source": [
    "questions = {\n",
    "    \"On a scale of 1 to 10, how much do you enjoy coding?\": [1, 10]\n",
    "}\n",
    "\n",
    "response = agent.numerical_resp(questions, float_resp=False)\n",
    "print(response[\"responses\"])"
   ]
  },
  {
   "cell_type": "code",
   "execution_count": 6,
   "metadata": {},
   "outputs": [
    {
     "name": "stdout",
     "output_type": "stream",
     "text": [
      "One of my favorite hobbies is reading. I love getting lost in different worlds and exploring new ideas through books. Whether it's fiction or non-fiction, I find that reading not only relaxes me but also inspires my own research and thinking.\n"
     ]
    }
   ],
   "source": [
    "dialogue = [\n",
    "    (\"Interviewer\", \"Tell me about your favorite hobby.\"),\n",
    "]\n",
    "\n",
    "response = agent.utterance(dialogue)\n",
    "print(response)"
   ]
  },
  {
   "cell_type": "code",
   "execution_count": 7,
   "metadata": {},
   "outputs": [],
   "source": [
    "agent.remember(\"Went for a hike in the mountains.\", time_step=1)"
   ]
  },
  {
   "cell_type": "code",
   "execution_count": 8,
   "metadata": {},
   "outputs": [],
   "source": [
    "agent.reflect(anchor=\"outdoor activities\", time_step=2)"
   ]
  },
  {
   "cell_type": "code",
   "execution_count": 10,
   "metadata": {},
   "outputs": [],
   "source": [
    "agent.save(\"agent_bank/populations/my_agents\")"
   ]
  },
  {
   "cell_type": "code",
   "execution_count": null,
   "metadata": {},
   "outputs": [],
   "source": [
    "agent = GenerativeAgent(agent_folder=\"path/to/save_directory\")"
   ]
  }
 ],
 "metadata": {
  "kernelspec": {
   "display_name": "gen-agent",
   "language": "python",
   "name": "python3"
  },
  "language_info": {
   "codemirror_mode": {
    "name": "ipython",
    "version": 3
   },
   "file_extension": ".py",
   "mimetype": "text/x-python",
   "name": "python",
   "nbconvert_exporter": "python",
   "pygments_lexer": "ipython3",
   "version": "3.11.11"
  }
 },
 "nbformat": 4,
 "nbformat_minor": 2
}
